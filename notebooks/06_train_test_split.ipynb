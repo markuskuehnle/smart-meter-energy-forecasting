{
 "cells": [
  {
   "cell_type": "markdown",
   "metadata": {},
   "source": [
    "# 06 Train Test Split"
   ]
  },
  {
   "cell_type": "markdown",
   "metadata": {},
   "source": [
    "## Notebook Overview\n",
    "\n",
    "This notebook performs a **chronological 80/20 split** of the preprocessed dataset to prepare for time series modeling.\n",
    "\n",
    "**Key Steps:**\n",
    "\n",
    "* **Input:** Encoded, hourly-resampled dataset with engineered features\n",
    "* **Sorting:** Ensures time index is strictly ordered\n",
    "* **Split:** Reserves the final 20% of data as the forecasting holdout set\n",
    "* **Output:** Saves `train.csv` and `forecast.csv` for baseline and ML model training\n",
    "\n",
    "> Purpose: Respect temporal order for causal integrity and prevent lookahead bias in forecasting models.\n",
    "\n",
    "### Thoughts, Tradeoffs & Considerations\n",
    "\n",
    "* **No shuffle allowed:** Time series models break if past and future are mixed. Chronological order is strictly preserved—this is **not optional** in forecasting tasks.\n",
    "* **Static 80/20 ratio:** Chose a fixed 80% train / 20% forecast split to simulate realistic deployment scenarios. Could be adjusted later depending on seasonality span or cross-validation design.\n",
    "* **Forecasting window:** With hourly data, 20% gives \\~2.4 months of holdout—enough to assess robustness across time patterns (e.g., day/night, weekday/weekend, weather shifts).\n",
    "* **Index integrity check:** Sorting the datetime index before the split was critical. Found minor time discontinuities earlier; now fully handled upstream.\n",
    "* **No temporal leakage:** Features like lagged values, weather, and time-based encodings must be computed **only from past data** during model training, this split enforces that discipline.\n",
    "* **Future tweak:** Could later introduce **rolling window** validation or walk-forward retraining, but for now a single static split is sufficient for baseline modeling and prototyping.\n",
    "\n",
    "> Main concern was **preserving causality and temporal realism**. Splitting randomly would give better metrics—but lie about deploy-time performance."
   ]
  },
  {
   "cell_type": "code",
   "execution_count": 1,
   "metadata": {},
   "outputs": [],
   "source": [
    "import pandas as pd"
   ]
  },
  {
   "cell_type": "code",
   "execution_count": 2,
   "metadata": {},
   "outputs": [],
   "source": [
    "# Show all rows and columns\n",
    "pd.set_option('display.max_rows', None)\n",
    "pd.set_option('display.max_columns', None)\n",
    "\n",
    "# widen the column width and overall display width\n",
    "pd.set_option('display.max_colwidth', None)\n",
    "pd.set_option('display.width', 0)"
   ]
  },
  {
   "cell_type": "code",
   "execution_count": 3,
   "metadata": {},
   "outputs": [],
   "source": [
    "df: pd.DataFrame = pd.read_csv(\"../data/interim/data_encoded.csv\", parse_dates=[\"time\"], index_col=\"time\")"
   ]
  },
  {
   "cell_type": "code",
   "execution_count": 4,
   "metadata": {},
   "outputs": [],
   "source": [
    "df = df.sort_index()"
   ]
  },
  {
   "cell_type": "code",
   "execution_count": 5,
   "metadata": {},
   "outputs": [],
   "source": [
    "# Define split point\n",
    "split_index = int(len(df) * 0.8)\n",
    "\n",
    "# Split\n",
    "train_df = df.iloc[:split_index]\n",
    "forecast_df = df.iloc[split_index:]"
   ]
  },
  {
   "cell_type": "code",
   "execution_count": 6,
   "metadata": {},
   "outputs": [
    {
     "name": "stdout",
     "output_type": "stream",
     "text": [
      "Train shape: (112, 36), Forecast shape: (28, 36)\n"
     ]
    }
   ],
   "source": [
    "train_df.to_csv(\"../data/interim/train.csv\", index=True)\n",
    "forecast_df.to_csv(\"../data/interim/forecast.csv\", index=True)\n",
    "\n",
    "print(f\"Train shape: {train_df.shape}, Forecast shape: {forecast_df.shape}\")"
   ]
  }
 ],
 "metadata": {
  "kernelspec": {
   "display_name": ".venv",
   "language": "python",
   "name": "python3"
  },
  "language_info": {
   "codemirror_mode": {
    "name": "ipython",
    "version": 3
   },
   "file_extension": ".py",
   "mimetype": "text/x-python",
   "name": "python",
   "nbconvert_exporter": "python",
   "pygments_lexer": "ipython3",
   "version": "3.10.16"
  }
 },
 "nbformat": 4,
 "nbformat_minor": 2
}
